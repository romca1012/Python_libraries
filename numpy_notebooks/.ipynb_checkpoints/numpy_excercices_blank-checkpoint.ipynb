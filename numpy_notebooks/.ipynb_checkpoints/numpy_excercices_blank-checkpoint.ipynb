{
 "cells": [
  {
   "cell_type": "markdown",
   "id": "90fac627-cb7d-4ad5-ab11-8629dfcd64c6",
   "metadata": {},
   "source": [
    "##### `Nom et prenom :`\n",
    "##### `Numéro de groupe:`"
   ]
  },
  {
   "cell_type": "markdown",
   "id": "1bd4828d-90b7-488e-b3a4-890523ed63c0",
   "metadata": {},
   "source": [
    "# **Exercises Numpy package** "
   ]
  },
  {
   "cell_type": "markdown",
   "id": "658cb7d0-0a67-4dc7-b421-2e24ff8b5ce9",
   "metadata": {},
   "source": [
    "Ce notebook présente une série d'exercices à résoudre en utilisant les functionnalitées du package `numpy`. Chaque exercice doit être résolu à la suite de chaque énoncé, en expliquant de façon claire et concise, les étapes utilisées pour les résoudre. Les exercices doivent impérativement être résolus à l'aide des fonctions disponibles dans `numpy` qui sont optimisées pour les opérations sur matrices n-dimensionnelles (ne pas utiliser de boucles sur listes ou de tuples, à moins que l'exercice le demande)."
   ]
  },
  {
   "cell_type": "markdown",
   "id": "a88ce919-b721-4f15-905e-aef4d8fc16d4",
   "metadata": {},
   "source": [
    "## **Création de vecteurs et de matrices**\n",
    "Le but des exercices proposés dans cette partie, est de se familiariser avec la création de vecteurs et de matrices à l'aide de fonctions préconçues en `numpy`"
   ]
  },
  {
   "cell_type": "markdown",
   "id": "dd99bf7e-7eb2-4e62-8505-3d8055620e64",
   "metadata": {},
   "source": [
    "### `Exercice 1`  \n",
    "Créer un vecteur ($vec_1$) à partir d'une liste composée des 100 premiers nombres entiers (en incluant 0 et 100). Les résultats doivent être affichés dans un dictionnaire, en vérifiant la conversion de la liste en objet numpy puis, la taille du vecteur ($vec_1$) et ses composantes. "
   ]
  },
  {
   "cell_type": "code",
   "execution_count": null,
   "id": "4ddc34b5-f60c-44b8-bbb0-264be7a92ddb",
   "metadata": {},
   "outputs": [],
   "source": []
  },
  {
   "cell_type": "markdown",
   "id": "273ba560-cde4-4cc9-a566-89bd0284f34d",
   "metadata": {},
   "source": [
    "### `Exercice 2`\n",
    "- Créer une matrice $A~(6,6)$ à partir d'une fonction $lambda$ $f=cos(m)+sin(n)$\n",
    "- Créer une matrice $B~(10,10)$ contenant des entrées comprises entre 0 et 990 dont les éléments soient équiespacés (pas=10).\n",
    "- Afficher les résultats des matrices A et B dans un dictionnaire. "
   ]
  },
  {
   "cell_type": "code",
   "execution_count": null,
   "id": "71e92332-53f7-47eb-8897-392be4caebc6",
   "metadata": {},
   "outputs": [],
   "source": []
  },
  {
   "cell_type": "markdown",
   "id": "8fb5d0dc-19b5-4709-a4fa-1281db6f6511",
   "metadata": {},
   "source": [
    "### `Exercice 3`\n",
    "Créer deux matrices diagonales $d_1$,$d_2$ partant des fonctions $f_1(x)=x^2log(x)$ et $f_2(x)=(\\frac{x+1}{x-1})$ évaluées dans les intervalles $(0,1000]$ et $[0,1)\\cup(1,1000]$ avec $x \\in Z$. Puis extraire la diagonale de chacune des matrices et reconstruire une nouvelle matrice diagonale $d_1$_$d_2$ avec la concaténation des deux diagonales.\n",
    "\n",
    "\n"
   ]
  },
  {
   "cell_type": "code",
   "execution_count": null,
   "id": "67d0a0b8-b94f-42c5-88f5-554b1e79bf07",
   "metadata": {},
   "outputs": [],
   "source": []
  },
  {
   "cell_type": "markdown",
   "id": "bea5be85-d161-48ab-863a-838d1e21bd11",
   "metadata": {},
   "source": [
    "## **Opérations sur des vecteurs et des matrices**"
   ]
  },
  {
   "cell_type": "markdown",
   "id": "21597809-57e5-4e67-9b5e-90c32358b67c",
   "metadata": {},
   "source": [
    "Cette section propose quelques exercices qui permettent de se familiariser avec des opérations basiques sur des matrices et des vecteurs en `numpy`"
   ]
  },
  {
   "cell_type": "markdown",
   "id": "e6804e3b-a913-4076-8a2f-32b6199e81ba",
   "metadata": {},
   "source": [
    "### `Exercice 4` \n",
    "- Créer deux vecteurs ($v_1$,$v_2$) aléatoires de 1500  éléments à l'aide des distributions normale (utiliser $\\mu=5$ et $\\sigma=2$) et uniforme (utiliser l'intervalle $(4,5)$), et calculer leur produit scalaire.\n",
    "- Calculer le produit scalaire à partir des vecteurs créés sans l'utilisation de `numpy` et comparer les résultats obtenus."
   ]
  },
  {
   "cell_type": "code",
   "execution_count": null,
   "id": "4ac49861-c413-434e-939b-239591c1cee8",
   "metadata": {},
   "outputs": [],
   "source": []
  },
  {
   "cell_type": "code",
   "execution_count": null,
   "id": "a2c5af4b-62c2-4ed1-95b3-82779dea19e8",
   "metadata": {},
   "outputs": [],
   "source": []
  },
  {
   "cell_type": "markdown",
   "id": "144ea793-a991-41d6-95df-eb37e14129ed",
   "metadata": {},
   "source": [
    "### `Exercice 5` \n",
    "À partir du système d'équations linéaires $Ax=b$ suivant: \n",
    "\\begin{cases}\n",
    "x_1+9x_2+2x_3+x_4+x_5=170\\\\\n",
    "10x_1+x_2+2x_3+x_4+x_5=180 \\\\\n",
    "x_1+5x_3+x_4+x_5=140 \\\\\n",
    "2x_1+x_2+x_3+2x_4+9x_5=180\\\\\n",
    "2x_1+x_2+2x_3+13x_4+2x_5=350\n",
    "\\end{cases}\n",
    "\n",
    "- Vérifier si le système est résolvable (si $A^{-1}$ existe)\n",
    "- Résoudre le système afin de trouver les valeurs des variables $x_1,x_2,x_3,x_4$ et $x_5$\n",
    "- Afficher les résultats sous la forme d'un dictionnaire \n"
   ]
  },
  {
   "cell_type": "code",
   "execution_count": null,
   "id": "840f26e6-ede6-4579-9dcb-5202a79dfdd0",
   "metadata": {},
   "outputs": [],
   "source": [
    "\n"
   ]
  },
  {
   "cell_type": "markdown",
   "id": "14016fb0-0065-4df9-b168-38a2f9bdc4ba",
   "metadata": {},
   "source": [
    "### `Exercice 6` \n",
    "- Créer une matrice R à partir d'un fichier et appliquer le processus de diagonolisation\n",
    "- Prouver que $R=PDP^{-1}$ à l'aide du produit matriciel\n",
    "- Pour afficher les résultats, construire un dictionnaire avec les matrices $P$, $D$ et $P^{-1}$"
   ]
  },
  {
   "cell_type": "code",
   "execution_count": null,
   "id": "1f423a5e-ec3a-40aa-8950-d34760662b33",
   "metadata": {},
   "outputs": [],
   "source": []
  },
  {
   "cell_type": "markdown",
   "id": "81410d04-22ea-4784-b0b2-efc559eb840f",
   "metadata": {},
   "source": [
    "## Calcul scientifique en utilisant des algorithmes d'optimisation avec `scipy` \n",
    "Cette section présente une série d'exercices de calcul scientifique qui permettent de se familiariser avec quelques méthodologies d'optimisation souvent applicables aux sciences des données."
   ]
  },
  {
   "cell_type": "markdown",
   "id": "2001ab62-6cd4-49d3-85a7-243034d4a27a",
   "metadata": {},
   "source": [
    "### `Exercice 7`\n",
    "- Trouver les zéros des équations $ f(x) = x^2-exp(x)$ dans $[-2,2]$ et $g(x) = (x-2)^2 -log(x)$ dans $[0.5,4.5]$\n",
    "- Afficher les résultats dans un dictionnaire contenant les zéros de chacune des functions ainsi que leurs évaluations respectives en $f$ et $g$ \n",
    "- Graphiquer les résultats des fonctions dans les intervalles fournis\n"
   ]
  },
  {
   "cell_type": "code",
   "execution_count": null,
   "id": "b297a728-056d-479b-adda-490af06631f5",
   "metadata": {},
   "outputs": [],
   "source": [
    "\n"
   ]
  },
  {
   "cell_type": "code",
   "execution_count": null,
   "id": "090e8025-c2c6-4a1b-83ca-a3fa462baa5b",
   "metadata": {},
   "outputs": [],
   "source": []
  },
  {
   "cell_type": "markdown",
   "id": "f1bae93a-6a05-4853-b147-d1d53685640c",
   "metadata": {},
   "source": [
    "### `Exercice 8`\n",
    "- Trouver les points d'intersection des fonctions $func_1(x) = cos(x/5) + sin(x/2)$ et $func_2(x) = 0.01x -0.5$\n",
    "- Réaliser le graphique superposé des deux fonctions $func_1(x)$ et  $func_2(x)$"
   ]
  },
  {
   "cell_type": "code",
   "execution_count": null,
   "id": "67197b1c-c31a-4527-b691-1df72f7fc0a8",
   "metadata": {},
   "outputs": [],
   "source": []
  },
  {
   "cell_type": "code",
   "execution_count": null,
   "id": "361cc2e1-2a2c-4c47-99b7-50e950f510ed",
   "metadata": {},
   "outputs": [],
   "source": []
  },
  {
   "cell_type": "markdown",
   "id": "5092690d-e917-43f4-8f10-0bdb1bd65720",
   "metadata": {},
   "source": [
    "### `Exercice 9`\n",
    "Un expérimentateur souhaite étudier la diffusion du CO₂ dans une formation géologique afin de connaître le temps que ce gaz mettra à la traverser. Pour ce faire, le chercheur mène à bien des essais d'adsorption de CO2 sur des fragments de roche, ce qui lui permet d'obtenir la décroissance de la pression en fonction du temps à l'intérieur de celle-ci. En utilisant des techniques de physique théorique, le chercheur obtient un modèle analytique régi par l'équation suivante:\n",
    "\\begin{cases}\n",
    "F = 1-\\sum_{i=1}^n\\frac{1}{n^2}\\exp(-\\frac{Dn^2\\pi^2t}{r^2})\n",
    "\\end{cases}\n",
    "où $D$ est le coefficient de diffusion du gaz $(m^2s^{-1})$, $t$ est le temps $(s)$ pris par le gaz pour atteindre l'équilibre d'adsorption, et $r$ le rayon moyen des particules de roche. À l'aide  des données obtenues de l'expérience d'adsorption stockées dans le fichier diff_data.csv, répondez aux questions suivantes :\n",
    "\n",
    "- À l'aide de la régression non linéaire, développer les deux premiers termes de la série ($n = 2$) ci-dessus, et calculer le coefficient de diffusion $D$ du CO₂ en utilisant un rayon moyen de particule $r = 10^{-4} m$.\n",
    "- Obtenir la métrique RMSE (Root Mean Square Error) définie de la manière suivante:\n",
    "  \\begin{cases}\n",
    "RMSE = \\sqrt{\\frac{\\sum_{i=1}^n{(y_{pred}-y_{exp})}^2}{n}}\n",
    "\\end{cases}\n",
    "- Faire un graphique superposant les données expérimentales et le modèle ajusté.  "
   ]
  },
  {
   "cell_type": "code",
   "execution_count": null,
   "id": "b8b1948c-0caa-46d4-944b-0f0fc7f8d56a",
   "metadata": {},
   "outputs": [],
   "source": [
    "\n"
   ]
  },
  {
   "cell_type": "code",
   "execution_count": null,
   "id": "c154691f-e435-41d7-90da-67c1f4987b6a",
   "metadata": {},
   "outputs": [],
   "source": []
  }
 ],
 "metadata": {
  "kernelspec": {
   "display_name": "Python 3 (ipykernel)",
   "language": "python",
   "name": "python3"
  },
  "language_info": {
   "codemirror_mode": {
    "name": "ipython",
    "version": 3
   },
   "file_extension": ".py",
   "mimetype": "text/x-python",
   "name": "python",
   "nbconvert_exporter": "python",
   "pygments_lexer": "ipython3",
   "version": "3.11.7"
  }
 },
 "nbformat": 4,
 "nbformat_minor": 5
}
