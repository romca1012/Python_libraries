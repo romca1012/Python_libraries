{
 "cells": [
  {
   "cell_type": "markdown",
   "id": "8c28089c-36a0-4a5c-bb7d-3120f7d07ff2",
   "metadata": {},
   "source": [
    "##### `Nom et prenom :`\n",
    "##### `Numéro de groupe:`"
   ]
  },
  {
   "cell_type": "markdown",
   "id": "ce230446-c795-468b-a0b0-ee496183b592",
   "metadata": {},
   "source": [
    "# **Résolution de problèmes à l'aide de la bibliothèque Pandas** "
   ]
  },
  {
   "cell_type": "markdown",
   "id": "dd779952-c4ba-4988-b742-caf0ffd131f0",
   "metadata": {},
   "source": [
    "Ce cahier de notes présente une série d'exercices à résoudre en utilisant les fonctionnalités du package ou de la bibliothèque `pandas`. Chaque exercice doit être résolu à la suite de chaque énoncé, en expliquant de façon claire et concise les étapes utilisées pour y répondre. Les exercices doivent impérativement être résolus à l'aide des fonctions disponibles dans `pandas` qui sont optimisées pour les opérations sur des data frames (ne pas utiliser d'opérations non optimisées, comme des boucles sur des colonnes ou des lignes)."
   ]
  },
  {
   "cell_type": "markdown",
   "id": "a0d5f9d8-b068-44b9-ba57-8c687f52446d",
   "metadata": {},
   "source": [
    "## **Création de séries et de data frames**"
   ]
  },
  {
   "cell_type": "markdown",
   "id": "7f262df5-d274-4363-816a-c5ca1c336d52",
   "metadata": {},
   "source": [
    "### `Exercice 1`"
   ]
  },
  {
   "cell_type": "markdown",
   "id": "ac71ab3a-9764-426c-8ae8-9b235b9cf11b",
   "metadata": {},
   "source": [
    "Créer une liste (a) de nombres entiers entre 0 et 2000, espacés de 2, et répondre aux questions suivantes :\n",
    "\n",
    "- Créer une série (b) (avec les indices par défaut) à partir de la liste (a) et déterminer le type d'objet, la taille de la série et les indices de la série. Les résultats doivent être présentés dans un tuple nommé « résultats_serie ».\n",
    "- Créer un data frame (c) (avec les indices par défaut) à partir de la liste (a) et déterminer le type d'objet, la taille du data frame et les indices du data frame. Les résultats doivent être présentés dans un dictionnaire nommé résultats_df.\n",
    "- Créer un dictionnaire composé des résultats des deux points précédents.\n",
    "- Redéfinir le nom des colonnes de la série (b) et du data frame (c) en le changeant par « numero_valeur » et appliquer une réindexation avec des nombres entiers dans l'intervalle $[0,10000]$ (utiliser un pas de 10 et inclure les bornes de l'intervalle). Les résultats doivent être affichés en utilisant un dictionnaire."
   ]
  },
  {
   "cell_type": "code",
   "execution_count": null,
   "id": "bd73ac18-c849-42ab-86dc-6451f9ee5ed6",
   "metadata": {},
   "outputs": [],
   "source": []
  },
  {
   "cell_type": "code",
   "execution_count": null,
   "id": "b5b97a84-7756-4017-9d62-4218a7444276",
   "metadata": {},
   "outputs": [],
   "source": []
  },
  {
   "cell_type": "markdown",
   "id": "4c47988c-55c6-4119-85ba-ec27f4fe5cbe",
   "metadata": {},
   "source": [
    "### `Exercice 2`"
   ]
  },
  {
   "cell_type": "markdown",
   "id": "89b0cce4-3577-4fcd-be6c-9947c51579b8",
   "metadata": {},
   "source": [
    "Construire un dictionnaire dict_res avec les consignes suivantes :\n",
    "\n",
    "- Le dictionnaire doit être composé de trois couples clé-valeur nommés var_aleatoire, text_aleatoire et bol_aleatoire. La valeur correspondante à la clé var_aleatoire doit être une liste de 365 valeurs aléatoires comprises entre 10 et 20, tandis que les valeurs correspondantes aux clés text_aleatoire et bol_aleatoire doivent être respectivement une liste de 365 valeurs choisies aléatoirement à partir de la liste $a =['hot', 'warm', 'cool', 'cold', 'None']$, et une deuxième liste de la même taille composée des éléments choisis aléatoirement d'une liste boléenne $b = [True,False]$.\n",
    "- Créer un data frame k à partir du dictionnaire construit ci-dessus en utilisant comme indices un ensemble de dates comprises entre le 01-01-2022 et le 31-12-2022.\n",
    "- En utilisant la fonction plot de pandas, créer un graphique simple de var_aleatoire en fonction de la date. Afficher les résultats du data frame k et le graphique construit dans la même cellule de sortie (pour ce faire, importer la fonction display ainsi : `from IPython.display import display`)."
   ]
  },
  {
   "cell_type": "code",
   "execution_count": null,
   "id": "834c3eef-98d5-412b-a762-19f8d0cca1e3",
   "metadata": {},
   "outputs": [],
   "source": []
  },
  {
   "cell_type": "markdown",
   "id": "c5aa950e-7709-4159-8d89-804672ed9456",
   "metadata": {},
   "source": [
    "### `Exercice 3`"
   ]
  },
  {
   "cell_type": "markdown",
   "id": "7746342b-f74d-419e-b343-1132e2404891",
   "metadata": {},
   "source": [
    "Créer un tableau de données (data frame) df_earthquake à partir du fichier nommé <earthquakes.csv>. - Une fois le fichier chargé, répondre aux questions suivantes :\n",
    "\n",
    "- Le data frame est-il vide ?\n",
    "- Si le data frame n'est pas vide, quelles sont ses dimensions (nombre de lignes et de colonnes) ?\n",
    "- Ensuite, extraire le label des colonnes ainsi que leurs types de données.\n",
    "- Construire un data frame (q) composé de l'extraction du nombre de données manquantes et non manquantes par colonne. Changer les étiquettes des colonnes par « données_non_manquantes » et « données_manquantes ».\n",
    "- À partir du data frame de données manquantes/non manquantes, extraire le top 6 des variables avec le plus de valeurs manquantes.\n",
    "- Agréger tous les résultats précédents dans un dictionnaire."
   ]
  },
  {
   "cell_type": "code",
   "execution_count": null,
   "id": "5c49647e-f4cc-44cb-9c7a-c6e4a6138d93",
   "metadata": {},
   "outputs": [],
   "source": []
  },
  {
   "cell_type": "markdown",
   "id": "65609b8b-a706-4a06-a4b1-c5145b796aa3",
   "metadata": {},
   "source": [
    "### `Exercice 4`"
   ]
  },
  {
   "cell_type": "markdown",
   "id": "aab0b14c-f051-4855-8412-6c78c8a3a943",
   "metadata": {},
   "source": [
    "En utilisant le data frame créé dans l'exercice précédent (**df_earthquake**), répondre aux questions suivantes :\n",
    "\n",
    "- Changer le format de la variable time (le temps est initialement défini en millisecondes à partir de la date 1970-01-01T00:00:00.000Z) au format date (aaaa-mm-jj)\n",
    "- Entre quelles dates ont été enregistrées les données ?\n",
    "- Extraire les catégories des variables tsunami, magType, type et alert.\n",
    "- Construire un tableau croisé (utiliser la fonction `groupby`) des variables type (celle-ci définit le type de tremblement) et tsunami (variable binaire déterminant si le tremblement est d'origine continentale ou non) qui montre les valeurs minimales, maximales, le nombre d'occurrences et la moyenne de la magnitude du tremblement (variable mag). Quelles conclusions peut-on tirer des valeurs obtenues ?\n",
    "- Répliquer l'exercice précédent à l'aide de la fonction `pivot_table`."
   ]
  },
  {
   "cell_type": "code",
   "execution_count": null,
   "id": "92a4508e-8c13-44a3-935d-4b66c405a73e",
   "metadata": {},
   "outputs": [],
   "source": []
  },
  {
   "cell_type": "markdown",
   "id": "8765b788-7637-4166-aed2-602d2337fd68",
   "metadata": {},
   "source": [
    "## Opérations de regroupement, d'agregation et de pivotage "
   ]
  },
  {
   "cell_type": "markdown",
   "id": "ef53e0f3-7450-4379-ac62-c786ca86c97b",
   "metadata": {},
   "source": [
    "### `Exercice 5`"
   ]
  },
  {
   "cell_type": "markdown",
   "id": "4e48f2c3-c4c3-44ca-96a1-9819a5322ef8",
   "metadata": {},
   "source": [
    "À partir du schéma simple stocké dans le fichier `wheater.db`, effectuer les opérations suivantes:\n",
    "\n",
    "- À l'aide de la blibliothèque `sqlite3` charger les tableaux disponibles dans le fichier `wheater.db` en utilisant Pandas. Pour ce faire, il faudrait dans un premier temps, extraire les noms des tableaux dans le schéma relationnel du fichier `wheater.db`\n",
    "- Joindre les tableaux du schéma relationnel, en utilisant les deux principales fonctionnalités disponibles en pandas (merge et join)"
   ]
  },
  {
   "cell_type": "code",
   "execution_count": null,
   "id": "57cef8bc-675e-48c8-b47d-3cb5a9875ac0",
   "metadata": {},
   "outputs": [],
   "source": []
  },
  {
   "cell_type": "markdown",
   "id": "88f8e422-368a-4db5-b611-28975d861a3e",
   "metadata": {},
   "source": [
    "### `Exercice 6`"
   ]
  },
  {
   "cell_type": "markdown",
   "id": "9c367ea3-5b74-4c46-933d-3821b27a8c47",
   "metadata": {},
   "source": [
    "À partir du tableau joint (celui obtenu à partir de la fonction « Merge ») de l'exercice précédent, effectuez les opérations demandées et répondez aux questions suivantes.\n",
    "\n",
    "- Déterminer le nombre de stations climatologiques enregistrées dans ce tableau.\n",
    "- Générer un tableau de résultats regroupés par date, nom et type de donnée présentant les valeurs minimales, maximales et moyennes par groupe. Le regroupement par date doit se faire par mois. Pour ce faire, il est impératif de changer le format de la colonne date.\n",
    "- Changer le format obtenu du format court au format long (pivotage) à l'aide de la fonction `melt`.\n",
    "- À partir du long format obtenu, déterminer les 10 stations avec les valeurs moyennes les plus importantes enregistrées pendant le premier mois de l'année pour la catégorie SNOW.\n",
    "- Déterminer les 35 valeurs de température les plus élevées enregistrées pendant l'année.\n",
    "- Quelles sont les cinq stations météorologiques qui ont enregistré les températures les plus élevées ?\n",
    "- Selon les valeurs de température enregistrées pour les stations météorologiques, quel a été le mois le plus chaud à New York en 2018 ?"
   ]
  },
  {
   "cell_type": "code",
   "execution_count": null,
   "id": "30c05b8a-95bd-4646-a7ba-a10d01d85430",
   "metadata": {},
   "outputs": [],
   "source": []
  }
 ],
 "metadata": {
  "kernelspec": {
   "display_name": "Python 3 (ipykernel)",
   "language": "python",
   "name": "python3"
  },
  "language_info": {
   "codemirror_mode": {
    "name": "ipython",
    "version": 3
   },
   "file_extension": ".py",
   "mimetype": "text/x-python",
   "name": "python",
   "nbconvert_exporter": "python",
   "pygments_lexer": "ipython3",
   "version": "3.11.7"
  }
 },
 "nbformat": 4,
 "nbformat_minor": 5
}
