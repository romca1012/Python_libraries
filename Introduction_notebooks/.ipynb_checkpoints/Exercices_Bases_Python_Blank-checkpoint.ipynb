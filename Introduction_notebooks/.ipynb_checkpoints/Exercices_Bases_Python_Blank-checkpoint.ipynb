{
 "cells": [
  {
   "cell_type": "markdown",
   "id": "c5bd71d7-2124-4868-a2e8-fa2a15d31c34",
   "metadata": {},
   "source": [
    "## 6. Exercices\n",
    "\n",
    "- Créer une fonction qui retourne le carré d'un nombre.\n",
    "- Écrire une boucle qui affiche les multiples de 3 jusqu'à 30.\n",
    "- Créer un dictionnaire avec les noms et les âges de trois personnes, puis affichez-les (exemple maria a 10 ans).\n",
    "- Créer une liste et utilisez une boucle pour afficher ses éléments en ordre inverse.\n",
    "- Créer une fonction qui calcule la factorielle d'un nombre "
   ]
  },
  {
   "cell_type": "markdown",
   "id": "053dddfb-05b0-4278-b738-4568f188ea25",
   "metadata": {},
   "source": [
    "### Exercice 1"
   ]
  },
  {
   "cell_type": "code",
   "execution_count": null,
   "id": "103c3774-b77b-4bed-8773-714b2c6002ea",
   "metadata": {},
   "outputs": [],
   "source": []
  },
  {
   "cell_type": "markdown",
   "id": "6ca866db-e926-4742-b5e5-84ff92a90bcd",
   "metadata": {},
   "source": [
    "### Exercice 2"
   ]
  },
  {
   "cell_type": "code",
   "execution_count": null,
   "id": "917d3bea-43d6-420b-adbd-0b4af73ef156",
   "metadata": {},
   "outputs": [],
   "source": []
  },
  {
   "cell_type": "markdown",
   "id": "eeb9f050-805c-4c07-9193-ac38febe89e4",
   "metadata": {},
   "source": [
    "### Exercice 3"
   ]
  },
  {
   "cell_type": "code",
   "execution_count": null,
   "id": "204e0dce-6212-4f6d-b206-fc8a9360cbc2",
   "metadata": {},
   "outputs": [],
   "source": []
  },
  {
   "cell_type": "markdown",
   "id": "90a76041-1a4a-4d86-bfbb-ac1f94ca4377",
   "metadata": {},
   "source": [
    "### Exercice 4"
   ]
  },
  {
   "cell_type": "code",
   "execution_count": null,
   "id": "0d13aefd-92e4-4ab9-8e76-44bf91fed391",
   "metadata": {},
   "outputs": [],
   "source": []
  },
  {
   "cell_type": "markdown",
   "id": "d259aa03-224f-422c-9785-3e0f2ec15397",
   "metadata": {},
   "source": [
    "### Exercice 5"
   ]
  },
  {
   "cell_type": "code",
   "execution_count": null,
   "id": "c9429a84-b8f8-429d-bc25-f8ace00a6efa",
   "metadata": {},
   "outputs": [],
   "source": []
  }
 ],
 "metadata": {
  "kernelspec": {
   "display_name": "Python 3 (ipykernel)",
   "language": "python",
   "name": "python3"
  },
  "language_info": {
   "codemirror_mode": {
    "name": "ipython",
    "version": 3
   },
   "file_extension": ".py",
   "mimetype": "text/x-python",
   "name": "python",
   "nbconvert_exporter": "python",
   "pygments_lexer": "ipython3",
   "version": "3.11.7"
  }
 },
 "nbformat": 4,
 "nbformat_minor": 5
}
