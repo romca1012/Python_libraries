{
 "cells": [
  {
   "cell_type": "code",
   "execution_count": 1,
   "id": "672679e5-cc80-46a7-9e27-7d7588a311f5",
   "metadata": {},
   "outputs": [],
   "source": []
  },
  {
   "cell_type": "markdown",
   "id": "9f821507-1b44-456b-a252-224360ce08d2",
   "metadata": {},
   "source": [
    "# Exercices de mise en pratique des concepts statistiques basiques, des  tests d'hypothèse, et de régression linéaire et corrélation\n",
    "\n",
    "Ce notebook propose une série d'exercices de mise en pratique sur Python concernant des concepts statistiques basiques très utilisés en science des données et dans d'autres disciplines. L'objectif de ce notebook est d'appliquer les concepts développés en cours à l'aide des librairies Python, avec des algorithmes préconçus et, dans certains cas, de programmer les méthodes pour s'approprier les concepts. De la même manière que dans les sessions précédentes, le code doit être fourni dans les cellules après les énoncés et doit également être expliqué à l'aide de commentaires pertinents. \n",
    "\n"
   ]
  },
  {
   "cell_type": "markdown",
   "id": "20e65e92-d7be-4183-981a-81ebd0bf77d7",
   "metadata": {},
   "source": [
    "## Estimations de parametrès statitiques descriptifs basiques (moyenne, mediane, quartiles)"
   ]
  },
  {
   "cell_type": "markdown",
   "id": "ca91c9e0-cdec-4b53-a83d-2607f43d1e2e",
   "metadata": {},
   "source": [
    "### `Exercice 1`\n",
    "\n",
    "Créer une fonction (utilisant la bibliothèque numpy) qui, à partir d'un ensemble de données, fournisse la moyenne, la médiane (utiliser la fonction nanmedian afin d'éviter les valeurs manquantes) et les quartiles (utiliser la fonction nanquantile) $Q_1=25%$, $Q_2=50%$ et $Q_3=75%$. Les résultats doivent être présentés dans un data frame. Pour tester la fonction, utilisez le jeu de données gas_prices.csv qui contient les prix du gaz de quelques pays.\n",
    "\n",
    "- Comparez les valeurs obtenues aux valeurs retournées par la fonction pd.describe de la bibliothèque pandas. \n",
    "- Que remarquez-vous concernant ces valeurs ?"
   ]
  },
  {
   "cell_type": "code",
   "execution_count": 32,
   "id": "9d9de705-58d8-497c-87f8-09d760341561",
   "metadata": {},
   "outputs": [
    {
     "name": "stdout",
     "output_type": "stream",
     "text": [
      "       Country      Mean  Median     Q1      Q3\n",
      "0    Australia  2.348889   1.955  1.780  2.5875\n",
      "1       Canada  2.086842   1.730  1.590  2.1800\n",
      "2       France  4.407895   3.870  3.605  4.7000\n",
      "3      Germany  4.224737   3.530  3.370  4.9150\n",
      "4        Italy  4.645789   4.390  3.805  4.9400\n",
      "5        Japan  3.820526   3.640  3.270  4.3200\n",
      "6       Mexico  1.781579   1.790  1.475  2.2100\n",
      "7  South Korea  3.835789   3.760  2.910  4.3450\n",
      "8           UK  4.392632   4.130  3.135  5.1300\n",
      "9          USA  1.592105   1.230  1.145  1.7350 \n",
      "\n",
      "              Year  Australia     Canada     France    Germany      Italy  \\\n",
      "count    19.000000  18.000000  19.000000  19.000000  19.000000  19.000000   \n",
      "mean   1999.000000   2.348889   2.086842   4.407895   4.224737   4.645789   \n",
      "std       5.627314   0.845931   0.786618   1.167531   1.425749   1.146610   \n",
      "min    1990.000000   1.630000   1.380000   3.410000   2.650000   3.570000   \n",
      "25%    1994.500000   1.780000   1.590000   3.605000   3.370000   3.805000   \n",
      "50%    1999.000000   1.955000   1.730000   3.870000   3.530000   4.390000   \n",
      "75%    2003.500000   2.587500   2.180000   4.700000   4.915000   4.940000   \n",
      "max    2008.000000   4.450000   4.080000   7.510000   7.750000   7.630000   \n",
      "\n",
      "           Japan     Mexico  South Korea         UK        USA  \n",
      "count  19.000000  19.000000    19.000000  19.000000  19.000000  \n",
      "mean    3.820526   1.781579     3.835789   4.392632   1.592105  \n",
      "std     0.696615   0.462148     1.226170   1.455170   0.663355  \n",
      "min     2.820000   1.000000     2.050000   2.820000   1.060000  \n",
      "25%     3.270000   1.475000     2.910000   3.135000   1.145000  \n",
      "50%     3.640000   1.790000     3.760000   4.130000   1.230000  \n",
      "75%     4.320000   2.210000     4.345000   5.130000   1.735000  \n",
      "max     5.740000   2.450000     6.210000   7.420000   3.270000  \n"
     ]
    }
   ],
   "source": [
    "import numpy as np\n",
    "import pandas as pd\n",
    "\n",
    "def calculate_statistic(data):\n",
    "    my_result = {\n",
    "        'Country': [],\n",
    "        'Mean': [],\n",
    "        'Median': [],\n",
    "        'Q1': [],\n",
    "        'Q3': []\n",
    "    }\n",
    "    \n",
    "    for column in data.columns[1:]:\n",
    "        my_result['Country'].append(column)\n",
    "        my_result['Mean'].append(np.nanmean(data[column]))\n",
    "        my_result['Median'].append(np.nanmedian(data[column]))\n",
    "        my_result['Q1'].append(np.nanquantile(data[column], 0.25))\n",
    "        my_result['Q3'].append(np.nanquantile(data[column], 0.75))\n",
    "    \n",
    "    my_data_result = pd.DataFrame(my_result)\n",
    "    return my_data_result\n",
    "\n",
    "data = pd.read_csv('data/gas_prices.csv')\n",
    "\n",
    "statistic = calculate_statistic(data)\n",
    "\n",
    "print(statistic, '\\n')\n",
    "\n",
    "\n",
    "describe_my_result = data.describe()\n",
    "\n",
    "print(describe_my_result)"
   ]
  },
  {
   "cell_type": "markdown",
   "id": "500b1211-d2fd-4c6b-9704-3f345bf1eacc",
   "metadata": {},
   "source": [
    "## Distributions de dénsité de probabilité "
   ]
  },
  {
   "cell_type": "markdown",
   "id": "cc071555-1914-48ff-805f-74c79208ab5a",
   "metadata": {},
   "source": [
    "### `Exercice 2`\n",
    "Créer les courbes des distributions normale, $t$, et binomiale en utilisant la bibliothèque SciPy. Les distributions doivent présenter les caractéristiques suivantes:\n",
    "\n",
    "- Pour la distribution normale, créez un échantillon aléatoire(en utilisant numpy) normal de 1000 éléments, calculez la moyenne $\\mu$ et l'écart-type $\\sigma$. Ensuite, obtenez le graphique de la distribution normale entre $-3\\sigma$ et $3\\sigma$\n",
    "- Pour la distribution $t$, utilisez le même échantillon obtenu précédemment pour créer le graphique de la distribution $t$ dans l'intervalle $[-4 , 4]$\n",
    "- Pour la distribution binomiale, utilisez une probabilité de succès de $p=0,5$ pour chaque essai, un nombre d'essais de $n=10$ et un nombre de succès obtenus $k=n+1$.\n",
    "- Enfin, utilisez les distributions cumulées de densité de probabilité pour calculer la probabilité pour une valeur de $Z = 0.5$ et $t = 0.5$ (reutilisez les valeurs de $\\mu$ et $\\sigma$ calculées précédemment). "
   ]
  },
  {
   "cell_type": "code",
   "execution_count": 46,
   "id": "d9aa02b7-b2af-4a49-b918-224afc8517d4",
   "metadata": {},
   "outputs": [
    {
     "data": {
      "image/png": "[encoded data removed]",
      "text/plain": [
       "<Figure size 1000x600 with 1 Axes>"
      ]
     },
     "metadata": {},
     "output_type": "display_data"
    },
    {
     "data": {
      "image/png": "[encoded data removed]",
      "text/plain": [
       "<Figure size 1000x600 with 1 Axes>"
      ]
     },
     "metadata": {},
     "output_type": "display_data"
    },
    {
     "data": {
      "image/png": "[encoded data removed]",
      "text/plain": [
       "<Figure size 1000x600 with 1 Axes>"
      ]
     },
     "metadata": {},
     "output_type": "display_data"
    },
    {
     "name": "stdout",
     "output_type": "stream",
     "text": [
      "0.6883\n",
      "0.6914\n"
     ]
    }
   ],
   "source": [
    "import numpy as np\n",
    "import matplotlib.pyplot as plt\n",
    "from scipy.stats import norm, t, binom\n",
    "\n",
    "np.random.seed(42)\n",
    "sample = np.random.normal(loc=0, scale=1, size=1000)\n",
    "mu = np.mean(sample)\n",
    "sigma = np.std(sample)\n",
    "\n",
    "x_normal = np.linspace(-3*sigma, 3*sigma, 1000)\n",
    "pdf_normal = norm.pdf(x_normal, loc=mu, scale=sigma)\n",
    "\n",
    "plt.figure(figsize=(10, 6))\n",
    "plt.plot(x_normal, pdf_normal, label=\"Distribution normale\", color=\"blue\")\n",
    "plt.title(\"Distribution normale entre [-3σ, 3σ]\")\n",
    "plt.grid()\n",
    "plt.show()\n",
    "\n",
    "\n",
    "x_t = np.linspace(-4, 4, 1000)\n",
    "pdf_t = t.pdf(x_t, df=len(sample)-1)\n",
    "\n",
    "plt.figure(figsize=(10, 6))\n",
    "plt.plot(x_t, pdf_t, label=\"Distribution t\", color=\"blue\")\n",
    "plt.title(\"Distribution t entre [-4, 4]\")\n",
    "plt.grid()\n",
    "plt.show()\n",
    "\n",
    "n, p = 10, 0.5\n",
    "k = np.arange(0, n+1)\n",
    "binom = binom.pmf(k, n, p)\n",
    "\n",
    "plt.figure(figsize=(10, 6))\n",
    "plt.bar(k, binom, label=\"Distribution binomiale\", color=\"blue\")\n",
    "plt.title(\"Distribution binomiale (n=10, p=0.5)\")\n",
    "plt.xlabel(\"succès\")\n",
    "plt.ylabel(\"Probabilité\")\n",
    "plt.show()\n",
    "\n",
    "z_val, t_val = 0.5, 0.5\n",
    "prob_z = norm.cdf(z_val, loc=mu, scale=sigma)\n",
    "prob_t = t.cdf(t_val, df=len(sample)-1)\n",
    "\n",
    "print(f\"{prob_z:.4f}\")\n",
    "print(f\"{prob_t:.4f}\")"
   ]
  },
  {
   "cell_type": "markdown",
   "id": "b61169f7-d712-4609-b628-b8797c6ca7e1",
   "metadata": {},
   "source": [
    "## Tests statistiques ($t$-test et $\\chi^2$)"
   ]
  },
  {
   "attachments": {},
   "cell_type": "markdown",
   "id": "f5b4ed6f-1dc0-4e7c-a7fd-3691929e91f9",
   "metadata": {},
   "source": [
    "### `Exercice 3`\n",
    " Un article scientifique de la revue Materials Engineering (Vol II, No. 4 pp 275-281) décrit ls résultats des test par traction pour l'adhésion sur 22 échantillons  de l'aléation U-700. Les essai de charge sur lequels les échantillons ont eu des défaillances (Mpa) sont montrés sur le tableau ci-après:\n",
    "\n",
    "| Charge de défaillance (MPa) | 19.8 | 15.4 | 11.4 | 19.5 | 10.1 | 18.5 | 14.1 | 8.8 | 14.9 | 7.9 |\n",
    "|-----------------------|------|------|------|------|------|------|------|-----|------|-----|\n",
    "|                       | 17.6 | 13.6 | 7.5  | 12.7 | 16.7 | 11.9 | 15.4 | 11.9| 15.8 | 11.4 |\n",
    "|                       | 15.4 | 11.4 |      |      |      |      |      |     |      |     |\n",
    "\n",
    "\n",
    "\n",
    " - Les données sugèrent que la charge moyenne pour la défaillance excède 10Mpa. À partir de l'information fournie, répondez aux suivantes questions\n",
    " - Formulez les hypothèses nulle et alternative et appliquez le test d'hypothèse pertinent afin de rejéter ou non la hypothèse nulle. "
   ]
  },
  {
   "cell_type": "code",
   "execution_count": 24,
   "id": "204889bf-4d01-4265-a612-76f8456b159e",
   "metadata": {},
   "outputs": [
    {
     "name": "stdout",
     "output_type": "stream",
     "text": [
      "Statistique t : 4.901682101212388\n",
      "p-valeur (unilatérale) : 3.781272593448241e-05\n",
      "Rejet de H0 : La charge moyenne dépasse significativement 10 MPa.\n"
     ]
    }
   ],
   "source": [
    "import numpy as np\n",
    "from scipy.stats import ttest_1samp\n",
    "\n",
    "failure_loads = [ 19.8, 15.4, 11.4, 19.5, 10.1, 18.5, 14.1, 8.8, 14.9, 7.9,\n",
    "    17.6, 13.6, 7.5, 12.7, 16.7, 11.9, 15.4, 11.9, 15.8, 11.4,\n",
    "    15.4, 11.4 ]\n",
    "\n",
    "µ = 10\n",
    " \n",
    "t_stat, p_value = ttest_1samp(failure_loads, µ)\n",
    "print(f\"Statistique t : {t_stat}\")\n",
    "print(f\"p-valeur (unilatérale) : {p_value / 2}\")  \n",
    " \n",
    "α = 0.05\n",
    "if (p_value / 2 <α) and (t_stat > 0):\n",
    "    print(\"Rejet de H0 : La charge moyenne dépasse significativement 10 MPa.\")\n",
    "else:\n",
    "    print(\"Échec du rejet de H0 : La charge moyenne ne dépasse pas significativement 10 MPa.\")"
   ]
  },
  {
   "cell_type": "markdown",
   "id": "9dea9266-fcf6-4ea1-a140-5e5a3cf39a03",
   "metadata": {},
   "source": [
    "### `Exercice 4`"
   ]
  },
  {
   "cell_type": "markdown",
   "id": "ab4152aa-07af-4877-9e58-b579cd53eaf1",
   "metadata": {},
   "source": [
    "Un sondage a été réalisé au sein d'une université française sur l'opinion des étudiants concernant le changement du budget alloué au programme d'études communes. Les résultats de ce sondage sont présentés dans le tableau ci-dessous.\n",
    "\n",
    "|                | d'accord  | pas d'accord | Total |\n",
    "|----------------|------|------|-------|\n",
    "| **Première Année**       | 120   | 80   | 200   |\n",
    "| **Deuxième Année**       | 70    | 130  | 200   |\n",
    "| **Troisième Année**      | 60   | 70    | 130   |\n",
    "| **Quatrième Année**      | 40   | 60    | 100   |\n",
    "\n",
    "- Formulez les hypothèses nulle ($H_0$) et alternative ($H_1$).\n",
    "- Que déduisez vous par rapport à l'indépendance du sondage. Pour ceci utilisez un $\\alpha =0.05$.\n",
    "- Calculez la p-value à l'aide de deux méthodes : la méthode SciPy et la méthode basée sur la distribution de densité cumulée $\\chi^2$. Pour ce calcul, utilisez les valeurs de la statistique de test et du degré de liberté obtenues avec SciPy."
   ]
  },
  {
   "cell_type": "code",
   "execution_count": null,
   "id": "61147fae-70cf-47c8-b0d0-e6a16aa3ddc6",
   "metadata": {},
   "outputs": [],
   "source": []
  },
  {
   "cell_type": "markdown",
   "id": "534d827c-4215-4f31-861d-1708d33d46fd",
   "metadata": {},
   "source": [
    "## Régression Linéaire simple et multiple "
   ]
  },
  {
   "cell_type": "markdown",
   "id": "063f7a91-80b6-4a4f-b611-b53259a5b222",
   "metadata": {},
   "source": [
    "### `Exercice 5`\n",
    "\n",
    "Le tableau ci-dessous correspond à la performance d'essence dans la route par rapport aux caractéristiques du moteur. Avec ces données, répondre aux questions suivantes:\n",
    "\n",
    "- Ajuster un modèle linéaire simple qui mette en relation le nombre de miles parcourus par gallon de carburant consommé par le moteur en marche avec la cylindrée du moteur. Pour ce faire, créez un fichier Excel ou CSV, chargez-le et utilisez les formules pour calculer les coefficients de la régression linéaire simple. Ensuite, calculez les prédictions pour $x = 150$ et $x =200$\n",
    "- Utiliser les bibliothèques SciPy, statsmodels et scikit_learn pour ajuster un modèle linéaire simple sur le même ensemble de données. Comparez les résultats obtenus par les trois bibliothèques et la fonction créée précédemment.\n",
    "- Calculez les prédictions pour $x = 150$ et $x = 200$ en utilisant les bibliothèques scikit-learn et statsmodels, puis comparez les valeurs obtenues avec celles du premier point. \n",
    "\n",
    "  \n",
    "| Make       | Model     | MPG (highway) | Engine Displacement (in³) | Make       | Model    | MPG (highway) | Engine Displacement (in³) |\n",
    "|------------|-----------|---------------|---------------------------|------------|----------|---------------|---------------------------|\n",
    "| Acura      | Legend    | 30            | 97                        | Ford       | Taurus   | 27            | 153                       |\n",
    "| BMW        | 735i      | 19            | 209                       | Ford       | Tempo    | 33            | 90                        |\n",
    "| Buick      | Regal     | 29            | 173                       | Honda      | Accord   | 30            | 119                       |\n",
    "| Chevrolet  | Cavalier  | 32            | 121                       | Mazda      | RX-7     | 23            | 80                        |\n",
    "| Chevrolet  | Celebrity | 30            | 151                       | Mercedes   | 260E     | 24            | 159                       |\n",
    "| Chrysler   | Conquest  | 24            | 156                       | Mercury    | Tracer   | 29            | 97                        |\n",
    "| Dodge      | Aries     | 30            | 135                       | Nissan     | Maxima   | 26            | 181                       |\n",
    "| Dodge      | Dynasty   | 28            | 181                       | Oldsmobile | Cutlass  | 29            | 173                       |\n",
    "| Ford       | Escort    | 31            | 114                       | Plymouth   | Laser    | 37            | 122                       |\n",
    "| Ford       | Mustang   | 25            | 302                       | Pontiac    | Grand Prix | 29          | 173                       |\n"
   ]
  },
  {
   "cell_type": "markdown",
   "id": "db8fea39-bdd4-497c-857a-bce6d6d5eac0",
   "metadata": {},
   "source": [
    "#### Fonction Régression à partir des formules \n",
    " Pour programmer cette fonction, nous allons utiliser la formule que définie la pente de la droite en régression simple $\\beta_1 = \\frac {Cov(X, Y)}{Var(X)}$. Pour ce faire, il faut d'abord montrer comment la matrice de covariance est obtenue  \n",
    "\n",
    "<div style=\"text-align: center;\">\n",
    "$\n",
    "\\text{Cov}(X, Y) = \\begin{pmatrix}\n",
    "\\text{var}(x) & \\text{cov}(x, y) \\\\\n",
    "\\text{cov}(x, y) & \\text{var}(y)\n",
    "\\end{pmatrix}\n",
    "$\n",
    "</div>\n",
    "\n",
    "\n",
    "En observant cette matrice symétrique, il nous faut extraire la valeur $Cov(x, y)$ de façon à obtenir la pente de la droite. "
   ]
  },
  {
   "cell_type": "code",
   "execution_count": 43,
   "id": "60ba5858-9c15-41a2-b3a7-2a8f943fc23a",
   "metadata": {},
   "outputs": [
    {
     "name": "stdout",
     "output_type": "stream",
     "text": [
      "0      97\n",
      "1     209\n",
      "2     173\n",
      "3     121\n",
      "4     151\n",
      "5     156\n",
      "6     135\n",
      "7     181\n",
      "8     114\n",
      "9     302\n",
      "10    153\n",
      "11     90\n",
      "12    119\n",
      "13     80\n",
      "14    159\n",
      "15     97\n",
      "16    181\n",
      "17    173\n",
      "18    122\n",
      "19    173\n",
      "Name: Engine Displacement (in³), dtype: int64\n",
      "Coefficients de la régression linéaire simple: b0 = 33.53478390129696, b1 = -0.03539707904418596\n",
      "Prédictions pour x = 150 et x = 200: [28.225222044669067, 26.45536809245977]\n"
     ]
    }
   ],
   "source": [
    "import pandas as pd\n",
    "import numpy as np\n",
    "\n",
    "data = pd.read_csv('file.csv')\n",
    "#print(data)\n",
    "\n",
    "x = data['Engine Displacement (in³)']\n",
    "# print(x)\n",
    "y = data['MPG (highway)']\n",
    "\n",
    "x_mean = np.mean(x)\n",
    "y_mean = np.mean(y)\n",
    "\n",
    "b1 = np.sum((x - x_mean) * (y - y_mean)) / np.sum((x - x_mean) ** 2)\n",
    "\n",
    "b0 = y_mean - b1 * x_mean\n",
    "\n",
    "print(f\"Coefficients de la régression linéaire simple: b0 = {b0}, b1 = {b1}\")\n",
    "\n",
    "x_values = [150, 200]\n",
    "predictions = [b0 + b1 * x_val for x_val in x_values]\n",
    "print(f\"Prédictions pour x = 150 et x = 200: {predictions}\")"
   ]
  },
  {
   "cell_type": "markdown",
   "id": "58469b30-269f-4ce7-8a09-557acb437c1a",
   "metadata": {},
   "source": [
    "#### Code python avec statsmodels"
   ]
  },
  {
   "cell_type": "code",
   "execution_count": 44,
   "id": "22a9c67c-63ab-4a3f-b1dd-de4be3903d96",
   "metadata": {},
   "outputs": [
    {
     "name": "stdout",
     "output_type": "stream",
     "text": [
      "Defaulting to user installation because normal site-packages is not writeable\n",
      "Requirement already satisfied: statsmodels in /home/someone_specially/.local/lib/python3.10/site-packages (0.14.4)\n",
      "Requirement already satisfied: pandas!=2.1.0,>=1.4 in /home/someone_specially/.local/lib/python3.10/site-packages (from statsmodels) (2.2.2)\n",
      "Requirement already satisfied: patsy>=0.5.6 in /home/someone_specially/.local/lib/python3.10/site-packages (from statsmodels) (1.0.1)\n",
      "Requirement already satisfied: numpy<3,>=1.22.3 in /home/someone_specially/.local/lib/python3.10/site-packages (from statsmodels) (1.26.2)\n",
      "Requirement already satisfied: packaging>=21.3 in /home/someone_specially/.local/lib/python3.10/site-packages (from statsmodels) (24.1)\n",
      "Requirement already satisfied: scipy!=1.9.2,>=1.8 in /usr/lib/python3/dist-packages (from statsmodels) (1.8.0)\n",
      "Requirement already satisfied: python-dateutil>=2.8.2 in /home/someone_specially/.local/lib/python3.10/site-packages (from pandas!=2.1.0,>=1.4->statsmodels) (2.8.2)\n",
      "Requirement already satisfied: tzdata>=2022.7 in /home/someone_specially/.local/lib/python3.10/site-packages (from pandas!=2.1.0,>=1.4->statsmodels) (2024.1)\n",
      "Requirement already satisfied: pytz>=2020.1 in /usr/lib/python3/dist-packages (from pandas!=2.1.0,>=1.4->statsmodels) (2022.1)\n",
      "Requirement already satisfied: six>=1.5 in /usr/lib/python3/dist-packages (from python-dateutil>=2.8.2->pandas!=2.1.0,>=1.4->statsmodels) (1.16.0)\n",
      "Note: you may need to restart the kernel to use updated packages.\n",
      "statsmodels - Coefficients: const                        33.534784\n",
      "Engine Displacement (in³)    -0.035397\n",
      "dtype: float64\n"
     ]
    }
   ],
   "source": [
    "%pip install statsmodels\n",
    "import statsmodels.api as sm\n",
    "\n",
    "x_with_const = sm.add_constant(x)\n",
    "\n",
    "model = sm.OLS(y, x_with_const).fit()\n",
    "\n",
    "print(f\"statsmodels - Coefficients: {model.params}\")\n",
    "\n",
    "\n",
    "predictions_statsmodels = model.predict([1, 150]), model.predict([1, 200])\n",
    "print(f\"statsmodels - Prédictions pour x = 150 et x = 200: {predictions_statsmodels}\")\n"
   ]
  },
  {
   "cell_type": "markdown",
   "id": "0b8b390f-b73b-4bf4-b931-6cb874473174",
   "metadata": {},
   "source": [
    "#### Code python avec scikit-learn"
   ]
  },
  {
   "cell_type": "code",
   "execution_count": 42,
   "id": "613b9bdf-db15-4802-87a8-6959a5b8c049",
   "metadata": {},
   "outputs": [
    {
     "name": "stdout",
     "output_type": "stream",
     "text": [
      "Defaulting to user installation because normal site-packages is not writeable\n",
      "Collecting scikit-learn\n",
      "  Downloading scikit_learn-1.5.2-cp310-cp310-manylinux_2_17_x86_64.manylinux2014_x86_64.whl (13.3 MB)\n",
      "\u001b[2K     \u001b[90m━━━━━━━━━━━━━━━━━━━━━━━━━━━━━━━━━━━━━━━━\u001b[0m \u001b[32m13.3/13.3 MB\u001b[0m \u001b[31m3.6 MB/s\u001b[0m eta \u001b[36m0:00:00\u001b[0m00:01\u001b[0m00:01\u001b[0m\n",
      "\u001b[?25hCollecting joblib>=1.2.0\n",
      "  Downloading joblib-1.4.2-py3-none-any.whl (301 kB)\n",
      "\u001b[2K     \u001b[90m━━━━━━━━━━━━━━━━━━━━━━━━━━━━━━━━━━━━━━━\u001b[0m \u001b[32m301.8/301.8 KB\u001b[0m \u001b[31m1.2 MB/s\u001b[0m eta \u001b[36m0:00:00\u001b[0m00:01\u001b[0m00:01\u001b[0m\n",
      "\u001b[?25hRequirement already satisfied: numpy>=1.19.5 in /home/someone_specially/.local/lib/python3.10/site-packages (from scikit-learn) (1.26.2)\n",
      "Requirement already satisfied: scipy>=1.6.0 in /usr/lib/python3/dist-packages (from scikit-learn) (1.8.0)\n",
      "Collecting threadpoolctl>=3.1.0\n",
      "  Downloading threadpoolctl-3.5.0-py3-none-any.whl (18 kB)\n",
      "Installing collected packages: threadpoolctl, joblib, scikit-learn\n",
      "Successfully installed joblib-1.4.2 scikit-learn-1.5.2 threadpoolctl-3.5.0\n",
      "Note: you may need to restart the kernel to use updated packages.\n",
      "scikit-learn - Coefficients: intercept = 33.53478390129696, slope = -0.03539707904418596\n",
      "scikit-learn - Prédictions pour x = 150 et x = 200: [28.22522204 26.45536809]\n"
     ]
    }
   ],
   "source": [
    "%pip install scikit-learn\n",
    "from sklearn.linear_model import LinearRegression\n",
    "\n",
    "x_reshaped = x.values.reshape(-1, 1)\n",
    "\n",
    "model = LinearRegression().fit(x_reshaped, y)\n",
    "\n",
    "print(f\"scikit-learn - Coefficients: intercept = {model.intercept_}, slope = {model.coef_[0]}\")\n",
    "\n",
    "predictions_sklearn = model.predict(np.array(x_values).reshape(-1, 1))\n",
    "print(f\"scikit-learn - Prédictions pour x = 150 et x = 200: {predictions_sklearn}\")"
   ]
  },
  {
   "cell_type": "markdown",
   "id": "80ed31e2-d30a-4ad0-81fd-965281902375",
   "metadata": {},
   "source": [
    "#### Code Python avec SciPy"
   ]
  },
  {
   "cell_type": "code",
   "execution_count": 37,
   "id": "bd1cca47-2b8d-46a3-bd41-3f3d47b1b4bd",
   "metadata": {
    "jupyter": {
     "source_hidden": true
    }
   },
   "outputs": [
    {
     "name": "stdout",
     "output_type": "stream",
     "text": [
      "SciPy - Coefficients: intercept = 33.53478390129696, slope = -0.035397079044185945\n",
      "SciPy - Prédictions pour x = 150 et x = 200: [28.22522204466907, 26.45536809245977]\n"
     ]
    }
   ],
   "source": [
    "from scipy import stats\n",
    "\n",
    "slope, intercept, r_value, p_value, std_err = stats.linregress(x, y)\n",
    "\n",
    "print(f\"SciPy - Coefficients: intercept = {intercept}, slope = {slope}\")\n",
    "\n",
    "predictions_scipy = [intercept + slope * x_val for x_val in x_values]\n",
    "print(f\"SciPy - Prédictions pour x = 150 et x = 200: {predictions_scipy}\")\n"
   ]
  },
  {
   "cell_type": "markdown",
   "id": "7ef16bef-f7bc-4a9e-acc2-4cf12ecc255a",
   "metadata": {},
   "source": [
    "### Régression linéaire multiple "
   ]
  },
  {
   "cell_type": "markdown",
   "id": "c85f3819-f0be-41da-a597-e495298a789b",
   "metadata": {},
   "source": [
    "#### `Exercice 6`\n",
    "La résistance à la traction d'un lien métallique est une caractéristique importante. Le tableau ci-dessous donne des informations sur la force de traction $y$, la hauteur de la filière $x_1$, la hauteur du poteau $x_2$, la hauteur de la boucle $x_3$, la longueur du fil $x_4$, la largeur du lien sur la matrice $x_5$ et la largeur du lien sur le poteau $x_6$.\n",
    "\n",
    "|   y  |  x₁  |  x₂  |  x₃  |   x₄   |  x₅  |  x₆  |\n",
    "|------|------|------|------|--------|------|------|\n",
    "|  8.0 |  5.2 | 19.6 | 29.6 |  94.9  |  2.1 |  2.3 |\n",
    "|  8.3 |  5.2 | 19.8 | 32.4 |  89.7  |  2.1 |  1.8 |\n",
    "|  8.5 |  5.8 | 19.6 | 31.0 |  96.2  |  2.0 |  2.0 |\n",
    "|  8.8 |  6.4 | 19.4 | 32.4 |  95.6  |  2.2 |  2.1 |\n",
    "|  9.0 |  5.8 | 18.6 | 28.6 |  86.5  |  2.0 |  1.8 |\n",
    "|  9.3 |  5.2 | 18.8 | 30.6 |  84.5  |  2.1 |  2.1 |\n",
    "|  9.3 |  5.6 | 20.4 | 32.4 |  88.8  |  2.2 |  1.9 |\n",
    "|  9.5 |  6.0 | 19.0 | 32.6 |  85.7  |  2.1 |  1.9 |\n",
    "|  9.8 |  5.2 | 20.8 | 32.2 |  93.6  |  2.3 |  2.1 |\n",
    "| 10.0 |  5.8 | 19.9 | 31.8 |  86.0  |  2.1 |  1.8 |\n",
    "| 10.3 |  6.4 | 18.0 | 32.6 |  87.1  |  2.0 |  1.6 |\n",
    "| 10.5 |  6.0 | 20.6 | 33.4 |  93.1  |  2.1 |  2.1 |\n",
    "| 10.8 |  6.2 | 20.2 | 31.8 |  83.4  |  2.2 |  2.1 |\n",
    "| 11.0 |  6.2 | 20.2 | 32.4 |  94.5  |  2.1 |  1.9 |\n",
    "| 11.3 |  6.2 | 19.2 | 31.4 |  83.4  |  1.9 |  1.8 |\n",
    "| 11.5 |  5.6 | 17.0 | 33.2 |  85.2  |  2.1 |  2.1 |\n",
    "| 11.8 |  6.0 | 19.8 | 35.4 |  84.1  |  2.0 |  1.8 |\n",
    "| 12.3 |  5.8 | 18.8 | 34.0 |  86.9  |  2.1 |  1.8 |\n",
    "| 12.5 |  5.6 | 18.6 | 34.2 |  83.0  |  1.9 |  2.0 |\n",
    "\n",
    "- En utilisant le jeux de données ci-dessus, ajustez un modèle linéaire multiple à l'aide des bibliothèques statsmodels et scikit-learn.\n",
    "  Ensuite, comparez les résultats issus des deux méthodes\n",
    "- Calculez la prediction pour $x_1=6,x_2=21.2,x_3=30,x_4=90,x_5=2.0,x_6=1.5$ à l'aide des modèles obtenus avec statsmodels et scikit-learn.\n",
    "- Que pensez vous de la valeur du $r^2$\n",
    "- Créer une fonction à l'aide des équations normales pour obtenir les coefficients de régression multiple. Ensuite, calculez le coefficient de détermination $r^2$ ainsi que les prédictions pour $x_1=6, x_2=21,2, x_3=30, x_4=90, x_5=2,0, x_6=1,5$ et comparez les résultats avec ceux obtenus précédemment."
   ]
  },
  {
   "cell_type": "markdown",
   "id": "097dad70-f382-4933-a246-4b85f243233e",
   "metadata": {},
   "source": [
    "### Code python à l'aide de statsmodels"
   ]
  },
  {
   "cell_type": "code",
   "execution_count": null,
   "id": "4fdebb8b-23c2-4580-9843-d9fef4f1d523",
   "metadata": {},
   "outputs": [],
   "source": []
  },
  {
   "cell_type": "markdown",
   "id": "66e09421-cbda-424b-82ca-8d60e32c9275",
   "metadata": {},
   "source": [
    "#### Code python à l'aide de scikit-learn"
   ]
  },
  {
   "cell_type": "code",
   "execution_count": null,
   "id": "d9ca4da4-1261-47ee-a9f7-3e8d3464dbf8",
   "metadata": {},
   "outputs": [],
   "source": []
  },
  {
   "cell_type": "markdown",
   "id": "4e24cab6-b715-43f6-a184-1a86f6e47410",
   "metadata": {},
   "source": [
    "## Régression linéaire avec des équations normales\n"
   ]
  },
  {
   "cell_type": "code",
   "execution_count": null,
   "id": "27d42914-86c0-490a-aaba-c32dadf7747b",
   "metadata": {},
   "outputs": [],
   "source": []
  },
  {
   "cell_type": "code",
   "execution_count": null,
   "id": "0cc762dc-6e0e-41c2-8079-ffd839d45e18",
   "metadata": {},
   "outputs": [],
   "source": []
  }
 ],
 "metadata": {
  "kernelspec": {
   "display_name": "Python 3 (ipykernel)",
   "language": "python",
   "name": "python3"
  },
  "language_info": {
   "codemirror_mode": {
    "name": "ipython",
    "version": 3
   },
   "file_extension": ".py",
   "mimetype": "text/x-python",
   "name": "python",
   "nbconvert_exporter": "python",
   "pygments_lexer": "ipython3",
   "version": "3.10.12"
  }
 },
 "nbformat": 4,
 "nbformat_minor": 5
}
