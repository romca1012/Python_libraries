{
 "cells": [
  {
   "cell_type": "code",
   "execution_count": 1,
   "id": "672679e5-cc80-46a7-9e27-7d7588a311f5",
   "metadata": {},
   "outputs": [],
   "source": [
    "#%load_ext pycodestyle_magic\n",
    "#%pycodestyle_on"
   ]
  },
  {
   "cell_type": "markdown",
   "id": "9f821507-1b44-456b-a252-224360ce08d2",
   "metadata": {},
   "source": [
    "# Exercices de mise en pratique des concepts statistiques basiques, des  tests d'hypothèse, et de régression linéaire et corrélation\n",
    "\n",
    "Ce notebook propose une série d'exercices de mise en pratique sur Python concernant des concepts statistiques basiques très utilisés en science des données et dans d'autres disciplines. L'objectif de ce notebook est d'appliquer les concepts développés en cours à l'aide des librairies Python, avec des algorithmes préconçus et, dans certains cas, de programmer les méthodes pour s'approprier les concepts. De la même manière que dans les sessions précédentes, le code doit être fourni dans les cellules après les énoncés et doit également être expliqué à l'aide de commentaires pertinents. \n",
    "\n"
   ]
  },
  {
   "cell_type": "markdown",
   "id": "20e65e92-d7be-4183-981a-81ebd0bf77d7",
   "metadata": {},
   "source": [
    "## Estimations de parametrès statitiques descriptifs basiques (moyenne, mediane, quartiles)"
   ]
  },
  {
   "cell_type": "markdown",
   "id": "ca91c9e0-cdec-4b53-a83d-2607f43d1e2e",
   "metadata": {},
   "source": [
    "### `Exercice 1`\n",
    "\n",
    "Créer une fonction (utilisant la bibliothèque numpy) qui, à partir d'un ensemble de données, fournisse la moyenne, la médiane (utiliser la fonction nanmedian afin d'éviter les valeurs manquantes) et les quartiles (utiliser la fonction nanquantile) $Q_1=25%$, $Q_2=50%$ et $Q_3=75%$. Les résultats doivent être présentés dans un data frame. Pour tester la fonction, utilisez le jeu de données gas_prices.csv qui contient les prix du gaz de quelques pays.\n",
    "\n",
    "- Comparez les valeurs obtenues aux valeurs retournées par la fonction pd.describe de la bibliothèque pandas. \n",
    "- Que remarquez-vous concernant ces valeurs ?"
   ]
  },
  {
   "cell_type": "code",
   "execution_count": null,
   "id": "9d9de705-58d8-497c-87f8-09d760341561",
   "metadata": {},
   "outputs": [],
   "source": []
  },
  {
   "cell_type": "markdown",
   "id": "500b1211-d2fd-4c6b-9704-3f345bf1eacc",
   "metadata": {},
   "source": [
    "## Distributions de dénsité de probabilité "
   ]
  },
  {
   "cell_type": "markdown",
   "id": "cc071555-1914-48ff-805f-74c79208ab5a",
   "metadata": {},
   "source": [
    "### `Exercice 2`\n",
    "Créer les courbes des distributions normale, $t$, et binomiale en utilisant la bibliothèque SciPy. Les distributions doivent présenter les caractéristiques suivantes:\n",
    "\n",
    "- Pour la distribution normale, créez un échantillon aléatoire(en utilisant numpy) normal de 1000 éléments, calculez la moyenne $\\mu$ et l'écart-type $\\sigma$. Ensuite, obtenez le graphique de la distribution normale entre $-3\\sigma$ et $3\\sigma$\n",
    "- Pour la distribution $t$, utilisez le même échantillon obtenu précédemment pour créer le graphique de la distribution $t$ dans l'intervalle $[-4 , 4]$\n",
    "- Pour la distribution binomiale, utilisez une probabilité de succès de $p=0,5$ pour chaque essai, un nombre d'essais de $n=10$ et un nombre de succès obtenus $k=n+1$.\n",
    "- Enfin, utilisez les distributions cumulées de densité de probabilité pour calculer la probabilité pour une valeur de $Z = 0.5$ et $t = 0.5$ (reutilisez les valeurs de $\\mu$ et $\\sigma$ calculées précédemment). "
   ]
  },
  {
   "cell_type": "code",
   "execution_count": null,
   "id": "d9aa02b7-b2af-4a49-b918-224afc8517d4",
   "metadata": {},
   "outputs": [],
   "source": []
  },
  {
   "cell_type": "markdown",
   "id": "b61169f7-d712-4609-b628-b8797c6ca7e1",
   "metadata": {},
   "source": [
    "## Tests statistiques ($t$-test et $\\chi^2$)"
   ]
  },
  {
   "attachments": {},
   "cell_type": "markdown",
   "id": "f5b4ed6f-1dc0-4e7c-a7fd-3691929e91f9",
   "metadata": {},
   "source": [
    "### `Exercice 3`\n",
    " Un article scientifique de la revue Materials Engineering (Vol II, No. 4 pp 275-281) décrit ls résultats des test par traction pour l'adhésion sur 22 échantillons  de l'aléation U-700. Les essai de charge sur lequels les échantillons ont eu des défaillances (Mpa) sont montrés sur le tableau ci-après:\n",
    "\n",
    "| Charge de défaillance (MPa) | 19.8 | 15.4 | 11.4 | 19.5 | 10.1 | 18.5 | 14.1 | 8.8 | 14.9 | 7.9 |\n",
    "|-----------------------|------|------|------|------|------|------|------|-----|------|-----|\n",
    "|                       | 17.6 | 13.6 | 7.5  | 12.7 | 16.7 | 11.9 | 15.4 | 11.9| 15.8 | 11.4 |\n",
    "|                       | 15.4 | 11.4 |      |      |      |      |      |     |      |     |\n",
    "\n",
    "\n",
    "\n",
    " - Les données sugèrent que la charge moyenne pour la défaillance excède 10Mpa. À partir de l'information fournie, répondez aux suivantes questions\n",
    " - Formulez les hypothèses nulle et alternative et appliquez le test d'hypothèse pertinent afin de rejéter ou non la hypothèse nulle. "
   ]
  },
  {
   "cell_type": "code",
   "execution_count": null,
   "id": "204889bf-4d01-4265-a612-76f8456b159e",
   "metadata": {},
   "outputs": [],
   "source": []
  },
  {
   "cell_type": "markdown",
   "id": "9dea9266-fcf6-4ea1-a140-5e5a3cf39a03",
   "metadata": {},
   "source": [
    "### `Exercice 4`"
   ]
  },
  {
   "cell_type": "markdown",
   "id": "ab4152aa-07af-4877-9e58-b579cd53eaf1",
   "metadata": {},
   "source": [
    "Un sondage a été réalisé au sein d'une université française sur l'opinion des étudiants concernant le changement du budget alloué au programme d'études communes. Les résultats de ce sondage sont présentés dans le tableau ci-dessous.\n",
    "\n",
    "|                | d'accord  | pas d'accord | Total |\n",
    "|----------------|------|------|-------|\n",
    "| **Première Année**       | 120   | 80   | 200   |\n",
    "| **Deuxième Année**       | 70    | 130  | 200   |\n",
    "| **Troisième Année**      | 60   | 70    | 130   |\n",
    "| **Quatrième Année**      | 40   | 60    | 100   |\n",
    "\n",
    "- Formulez les hypothèses nulle ($H_0$) et alternative ($H_1$).\n",
    "- Que déduisez vous par rapport à l'indépendance du sondage. Pour ceci utilisez un $\\alpha =0.05$.\n",
    "- Calculez la p-value à l'aide de deux méthodes : la méthode SciPy et la méthode basée sur la distribution de densité cumulée $\\chi^2$. Pour ce calcul, utilisez les valeurs de la statistique de test et du degré de liberté obtenues avec SciPy."
   ]
  },
  {
   "cell_type": "code",
   "execution_count": null,
   "id": "61147fae-70cf-47c8-b0d0-e6a16aa3ddc6",
   "metadata": {},
   "outputs": [],
   "source": []
  },
  {
   "cell_type": "markdown",
   "id": "534d827c-4215-4f31-861d-1708d33d46fd",
   "metadata": {},
   "source": [
    "## Régression Linéaire simple et multiple "
   ]
  },
  {
   "cell_type": "markdown",
   "id": "063f7a91-80b6-4a4f-b611-b53259a5b222",
   "metadata": {},
   "source": [
    "### `Exercice 5`\n",
    "\n",
    "Le tableau ci-dessous correspond à la performance d'essence dans la route par rapport aux caractéristiques du moteur. Avec ces données, répondre aux questions suivantes:\n",
    "\n",
    "- Ajuster un modèle linéaire simple qui mette en relation le nombre de miles parcourus par gallon de carburant consommé par le moteur en marche avec la cylindrée du moteur. Pour ce faire, créez un fichier Excel ou CSV, chargez-le et utilisez les formules pour calculer les coefficients de la régression linéaire simple. Ensuite, calculez les prédictions pour $x = 150$ et $x =200$\n",
    "- Utiliser les bibliothèques SciPy, statsmodels et scikit_learn pour ajuster un modèle linéaire simple sur le même ensemble de données. Comparez les résultats obtenus par les trois bibliothèques et la fonction créée précédemment.\n",
    "- Calculez les prédictions pour $x = 150$ et $x = 200$ en utilisant les bibliothèques scikit-learn et statsmodels, puis comparez les valeurs obtenues avec celles du premier point. \n",
    "\n",
    "  \n",
    "| Make       | Model     | MPG (highway) | Engine Displacement (in³) | Make       | Model    | MPG (highway) | Engine Displacement (in³) |\n",
    "|------------|-----------|---------------|---------------------------|------------|----------|---------------|---------------------------|\n",
    "| Acura      | Legend    | 30            | 97                        | Ford       | Taurus   | 27            | 153                       |\n",
    "| BMW        | 735i      | 19            | 209                       | Ford       | Tempo    | 33            | 90                        |\n",
    "| Buick      | Regal     | 29            | 173                       | Honda      | Accord   | 30            | 119                       |\n",
    "| Chevrolet  | Cavalier  | 32            | 121                       | Mazda      | RX-7     | 23            | 80                        |\n",
    "| Chevrolet  | Celebrity | 30            | 151                       | Mercedes   | 260E     | 24            | 159                       |\n",
    "| Chrysler   | Conquest  | 24            | 156                       | Mercury    | Tracer   | 29            | 97                        |\n",
    "| Dodge      | Aries     | 30            | 135                       | Nissan     | Maxima   | 26            | 181                       |\n",
    "| Dodge      | Dynasty   | 28            | 181                       | Oldsmobile | Cutlass  | 29            | 173                       |\n",
    "| Ford       | Escort    | 31            | 114                       | Plymouth   | Laser    | 37            | 122                       |\n",
    "| Ford       | Mustang   | 25            | 302                       | Pontiac    | Grand Prix | 29          | 173                       |\n"
   ]
  },
  {
   "cell_type": "markdown",
   "id": "db8fea39-bdd4-497c-857a-bce6d6d5eac0",
   "metadata": {},
   "source": [
    "#### Fonction Régression à partir des formules \n",
    " Pour programmer cette fonction, nous allons utiliser la formule que définie la pente de la droite en régression simple $\\beta_1 = \\frac {Cov(X, Y)}{Var(X)}$. Pour ce faire, il faut d'abord montrer comment la matrice de covariance est obtenue  \n",
    "\n",
    "<div style=\"text-align: center;\">\n",
    "$\n",
    "\\text{Cov}(X, Y) = \\begin{pmatrix}\n",
    "\\text{var}(x) & \\text{cov}(x, y) \\\\\n",
    "\\text{cov}(x, y) & \\text{var}(y)\n",
    "\\end{pmatrix}\n",
    "$\n",
    "</div>\n",
    "\n",
    "\n",
    "En observant cette matrice symétrique, il nous faut extraire la valeur $Cov(x, y)$ de façon à obtenir la pente de la droite. "
   ]
  },
  {
   "cell_type": "code",
   "execution_count": null,
   "id": "60ba5858-9c15-41a2-b3a7-2a8f943fc23a",
   "metadata": {},
   "outputs": [],
   "source": []
  },
  {
   "cell_type": "markdown",
   "id": "58469b30-269f-4ce7-8a09-557acb437c1a",
   "metadata": {},
   "source": [
    "#### Code python avec statsmodels"
   ]
  },
  {
   "cell_type": "code",
   "execution_count": null,
   "id": "22a9c67c-63ab-4a3f-b1dd-de4be3903d96",
   "metadata": {},
   "outputs": [],
   "source": []
  },
  {
   "cell_type": "markdown",
   "id": "0b8b390f-b73b-4bf4-b931-6cb874473174",
   "metadata": {},
   "source": [
    "#### Code python avec scikit-learn"
   ]
  },
  {
   "cell_type": "code",
   "execution_count": null,
   "id": "613b9bdf-db15-4802-87a8-6959a5b8c049",
   "metadata": {},
   "outputs": [],
   "source": []
  },
  {
   "cell_type": "markdown",
   "id": "80ed31e2-d30a-4ad0-81fd-965281902375",
   "metadata": {},
   "source": [
    "#### Code Python avec SciPy"
   ]
  },
  {
   "cell_type": "code",
   "execution_count": null,
   "id": "bd1cca47-2b8d-46a3-bd41-3f3d47b1b4bd",
   "metadata": {},
   "outputs": [],
   "source": []
  },
  {
   "cell_type": "markdown",
   "id": "7ef16bef-f7bc-4a9e-acc2-4cf12ecc255a",
   "metadata": {},
   "source": [
    "### Régression linéaire multiple "
   ]
  },
  {
   "cell_type": "markdown",
   "id": "c85f3819-f0be-41da-a597-e495298a789b",
   "metadata": {},
   "source": [
    "#### `Exercice 6`\n",
    "La résistance à la traction d'un lien métallique est une caractéristique importante. Le tableau ci-dessous donne des informations sur la force de traction $y$, la hauteur de la filière $x_1$, la hauteur du poteau $x_2$, la hauteur de la boucle $x_3$, la longueur du fil $x_4$, la largeur du lien sur la matrice $x_5$ et la largeur du lien sur le poteau $x_6$.\n",
    "\n",
    "|   y  |  x₁  |  x₂  |  x₃  |   x₄   |  x₅  |  x₆  |\n",
    "|------|------|------|------|--------|------|------|\n",
    "|  8.0 |  5.2 | 19.6 | 29.6 |  94.9  |  2.1 |  2.3 |\n",
    "|  8.3 |  5.2 | 19.8 | 32.4 |  89.7  |  2.1 |  1.8 |\n",
    "|  8.5 |  5.8 | 19.6 | 31.0 |  96.2  |  2.0 |  2.0 |\n",
    "|  8.8 |  6.4 | 19.4 | 32.4 |  95.6  |  2.2 |  2.1 |\n",
    "|  9.0 |  5.8 | 18.6 | 28.6 |  86.5  |  2.0 |  1.8 |\n",
    "|  9.3 |  5.2 | 18.8 | 30.6 |  84.5  |  2.1 |  2.1 |\n",
    "|  9.3 |  5.6 | 20.4 | 32.4 |  88.8  |  2.2 |  1.9 |\n",
    "|  9.5 |  6.0 | 19.0 | 32.6 |  85.7  |  2.1 |  1.9 |\n",
    "|  9.8 |  5.2 | 20.8 | 32.2 |  93.6  |  2.3 |  2.1 |\n",
    "| 10.0 |  5.8 | 19.9 | 31.8 |  86.0  |  2.1 |  1.8 |\n",
    "| 10.3 |  6.4 | 18.0 | 32.6 |  87.1  |  2.0 |  1.6 |\n",
    "| 10.5 |  6.0 | 20.6 | 33.4 |  93.1  |  2.1 |  2.1 |\n",
    "| 10.8 |  6.2 | 20.2 | 31.8 |  83.4  |  2.2 |  2.1 |\n",
    "| 11.0 |  6.2 | 20.2 | 32.4 |  94.5  |  2.1 |  1.9 |\n",
    "| 11.3 |  6.2 | 19.2 | 31.4 |  83.4  |  1.9 |  1.8 |\n",
    "| 11.5 |  5.6 | 17.0 | 33.2 |  85.2  |  2.1 |  2.1 |\n",
    "| 11.8 |  6.0 | 19.8 | 35.4 |  84.1  |  2.0 |  1.8 |\n",
    "| 12.3 |  5.8 | 18.8 | 34.0 |  86.9  |  2.1 |  1.8 |\n",
    "| 12.5 |  5.6 | 18.6 | 34.2 |  83.0  |  1.9 |  2.0 |\n",
    "\n",
    "- En utilisant le jeux de données ci-dessus, ajustez un modèle linéaire multiple à l'aide des bibliothèques statsmodels et scikit-learn.\n",
    "  Ensuite, comparez les résultats issus des deux méthodes\n",
    "- Calculez la prediction pour $x_1=6,x_2=21.2,x_3=30,x_4=90,x_5=2.0,x_6=1.5$ à l'aide des modèles obtenus avec statsmodels et scikit-learn.\n",
    "- Que pensez vous de la valeur du $r^2$\n",
    "- Créer une fonction à l'aide des équations normales pour obtenir les coefficients de régression multiple. Ensuite, calculez le coefficient de détermination $r^2$ ainsi que les prédictions pour $x_1=6, x_2=21,2, x_3=30, x_4=90, x_5=2,0, x_6=1,5$ et comparez les résultats avec ceux obtenus précédemment."
   ]
  },
  {
   "cell_type": "markdown",
   "id": "097dad70-f382-4933-a246-4b85f243233e",
   "metadata": {},
   "source": [
    "### Code python à l'aide de statsmodels"
   ]
  },
  {
   "cell_type": "code",
   "execution_count": null,
   "id": "4fdebb8b-23c2-4580-9843-d9fef4f1d523",
   "metadata": {},
   "outputs": [],
   "source": [
    "\n"
   ]
  },
  {
   "cell_type": "markdown",
   "id": "66e09421-cbda-424b-82ca-8d60e32c9275",
   "metadata": {},
   "source": [
    "#### Code python à l'aide de scikit-learn"
   ]
  },
  {
   "cell_type": "code",
   "execution_count": null,
   "id": "d9ca4da4-1261-47ee-a9f7-3e8d3464dbf8",
   "metadata": {},
   "outputs": [],
   "source": []
  },
  {
   "cell_type": "markdown",
   "id": "4e24cab6-b715-43f6-a184-1a86f6e47410",
   "metadata": {},
   "source": [
    "## Régression linéaire avec des équations normales\n"
   ]
  },
  {
   "cell_type": "code",
   "execution_count": null,
   "id": "27d42914-86c0-490a-aaba-c32dadf7747b",
   "metadata": {},
   "outputs": [],
   "source": []
  },
  {
   "cell_type": "code",
   "execution_count": null,
   "id": "0cc762dc-6e0e-41c2-8079-ffd839d45e18",
   "metadata": {},
   "outputs": [],
   "source": []
  }
 ],
 "metadata": {
  "kernelspec": {
   "display_name": "Python 3 (ipykernel)",
   "language": "python",
   "name": "python3"
  },
  "language_info": {
   "codemirror_mode": {
    "name": "ipython",
    "version": 3
   },
   "file_extension": ".py",
   "mimetype": "text/x-python",
   "name": "python",
   "nbconvert_exporter": "python",
   "pygments_lexer": "ipython3",
   "version": "3.11.7"
  }
 },
 "nbformat": 4,
 "nbformat_minor": 5
}
